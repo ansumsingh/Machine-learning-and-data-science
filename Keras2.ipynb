{
  "nbformat": 4,
  "nbformat_minor": 0,
  "metadata": {
    "colab": {
      "name": "Keras2.ipynb",
      "version": "0.3.2",
      "provenance": [],
      "toc_visible": true
    },
    "kernelspec": {
      "name": "python3",
      "display_name": "Python 3"
    }
  },
  "cells": [
    {
      "metadata": {
        "id": "ZrGEK-LN7SDt",
        "colab_type": "text"
      },
      "cell_type": "markdown",
      "source": [
        "# Preprocessing training data\n",
        "\n",
        "This is the continuation of my previous article. In this article, I will apply a preprocessing method on the dataset that was presented in the previous article (*Keras1.ipynb*), followed by the training of the deep learning networks. At the end, testing results will be presented.\n",
        "\n",
        "It should be noted that the dataset that was presented in the previous article had uneven distribution of true and false cases. In particular, the dataset had 268 true cases and 500 false cases of diabetese. Details on the dataset can be found in the following link: \n",
        "https://raw.githubusercontent.com/jbrownlee/Datasets/master/pima-indians-diabetes.names\n",
        "\n",
        "The deep learning model trained using such dataset can lead to the biasness in the trained network outcome because more true cases are fed to the network than false cases. Such issues has been discussed in the following article by Satya Mallick:\n",
        "\n",
        "https://www.learnopencv.com/bias-variance-tradeoff-in-machine-learning/\n",
        "\n",
        "To avoid it, the dataset should have equal numbers of true and false cases, respectively. Therefore let us create new data that has the property. Furthermore, the training and testing of the model should be done in different sets. Therefore, the data set will be divided into 4 such sets, and one set will be used to train, whereas the remainings are used for testing the model.\n",
        "\n",
        "The preprocessing steps can be explained by the following figure\n",
        "![alt text](preprocessingProcess.png)"
      ]
    },
    {
      "metadata": {
        "id": "HQS7QN8F47lg",
        "colab_type": "code",
        "colab": {}
      },
      "cell_type": "code",
      "source": [
        "!pip install --upgrade -q gspread\n",
        "\n",
        "from google.colab import auth\n",
        "auth.authenticate_user()\n",
        "\n",
        "\n",
        "import gspread\n",
        "from oauth2client.client import GoogleCredentials\n",
        "\n",
        "gc = gspread.authorize(GoogleCredentials.get_application_default())\n",
        "\n",
        "worksheet = gc.open('pima-indians-diabetes').sheet1\n",
        "\n",
        "# get_all_values gives a list of rows.\n",
        "rows = worksheet.get_all_values()\n",
        "\n",
        "\n",
        "\n",
        "# Convert to a DataFrame and render.\n",
        "import pandas as pd\n",
        "import numpy  as np\n",
        "dataset =pd.DataFrame.from_records(rows)\n",
        "\n",
        "#Converting to numpy arrays for X and Y\n",
        "WholeData=dataset.values[:,:] \n",
        "true_case =np.empty([1,9])\n",
        "false_case =np.empty([1,9])\n",
        "\n",
        "#creating two dataset for true and false case\n",
        "for row in WholeData:\n",
        "   if(row[8]=='1'):\n",
        "    true_case= np.vstack((true_case,row))\n",
        "   else:\n",
        "    false_case= np.vstack((false_case,row))\n",
        "    \n",
        "#deleting the first row as it contains garbage due to empty\n",
        "false_case = false_case[1:-1,:] \n",
        "true_case =true_case[1:-1,:]\n",
        "\n",
        "#creating 4 different sets from true_case and false case\n",
        "dataSet =[]\n",
        "for i in range(4):\n",
        "  temp_set = np.empty([1,9])\n",
        "  for j in range(66):\n",
        "    temp_set = np.vstack((temp_set,true_case[i*67+j,:]))\n",
        "    temp_set = np.vstack((temp_set,false_case[i*67+j,:]))\n",
        "  temp_set = temp_set[1:-1,:]\n",
        "  dataSet.append(temp_set)\n",
        "\n"
      ],
      "execution_count": 0,
      "outputs": []
    }
  ]
}