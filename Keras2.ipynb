{
  "nbformat": 4,
  "nbformat_minor": 0,
  "metadata": {
    "colab": {
      "name": "Keras2.ipynb",
      "version": "0.3.2",
      "provenance": [],
      "toc_visible": true,
      "include_colab_link": true
    },
    "kernelspec": {
      "name": "python3",
      "display_name": "Python 3"
    }
  },
  "cells": [
    {
      "cell_type": "markdown",
      "metadata": {
        "id": "view-in-github",
        "colab_type": "text"
      },
      "source": [
        "<a href=\"https://colab.research.google.com/github/ansumsingh/Machine-learning-and-data-science/blob/master/Keras2.ipynb\" target=\"_parent\"><img src=\"https://colab.research.google.com/assets/colab-badge.svg\" alt=\"Open In Colab\"/></a>"
      ]
    },
    {
      "metadata": {
        "id": "ZrGEK-LN7SDt",
        "colab_type": "text"
      },
      "cell_type": "markdown",
      "source": [
        "# Preprocessing training data\n",
        "\n",
        "This is the continuation of my previous article. In this article, I will apply a preprocessing method on the dataset that was presented in the previous article (*Keras1.ipynb*), followed by the training of the deep learning networks. At the end, testing results will be presented.\n",
        "\n",
        "It should be noted that the dataset that was presented in the previous article had uneven distribution of true and false cases. In particular, the dataset had 268 true cases and 500 false cases of diabetese. Details on the dataset can be found in the following link: \n",
        "https://raw.githubusercontent.com/jbrownlee/Datasets/master/pima-indians-diabetes.names\n",
        "\n",
        "The deep learning model trained using such dataset can lead to the biasness in the trained network outcome because more true cases are fed to the network than false cases. Such issues has been discussed in the following article by Satya Mallick:\n",
        "\n",
        "https://www.learnopencv.com/bias-variance-tradeoff-in-machine-learning/\n",
        "\n",
        "To avoid it, the dataset should have equal numbers of true and false cases, respectively. Therefore let us create new data that has the property. Furthermore, the training and testing of the model should be done in different sets. Therefore, the data set will be divided into 4 such sets, and one set will be used to train, whereas the remainings are used for testing the model.\n",
        "\n",
        "The preprocessing steps can be explained by the following figure\n",
        "![alt text](preprocessingProcess.png)"
      ]
    },
    {
      "metadata": {
        "id": "HQS7QN8F47lg",
        "colab_type": "code",
        "colab": {
          "base_uri": "https://localhost:8080/",
          "height": 252
        },
        "outputId": "f6ebf2e9-e9cc-4a7c-e3e9-9146ba3cace1"
      },
      "cell_type": "code",
      "source": [
        "!pip install --upgrade -q gspread\n",
        "\n",
        "from google.colab import auth\n",
        "auth.authenticate_user()\n",
        "\n",
        "\n",
        "import gspread\n",
        "from oauth2client.client import GoogleCredentials\n",
        "\n",
        "gc = gspread.authorize(GoogleCredentials.get_application_default())\n",
        "\n",
        "worksheet = gc.open('pima-indians-diabetes').sheet1\n",
        "\n",
        "# get_all_values gives a list of rows.\n",
        "rows = worksheet.get_all_values()\n",
        "\n",
        "\n",
        "\n",
        "# Convert to a DataFrame and render.\n",
        "import pandas as pd\n",
        "import numpy  as np\n",
        "dataset =pd.DataFrame.from_records(rows)\n",
        "\n",
        "#Converting to numpy arrays for X and Y\n",
        "WholeData=dataset.values[:,:] \n",
        "true_case =np.empty([1,9])\n",
        "false_case =np.empty([1,9])\n",
        "\n",
        "#creating two dataset for true and false case\n",
        "for row in WholeData:\n",
        "   if(row[8]=='1'):\n",
        "    true_case= np.vstack((true_case,row))\n",
        "   else:\n",
        "    false_case= np.vstack((false_case,row))\n",
        "    \n",
        "#deleting the first row as it contains garbage due to empty\n",
        "false_case = false_case[1:-1,:] \n",
        "true_case =true_case[1:-1,:]\n",
        "\n",
        "print(false_case)\n",
        "print(true_case)"
      ],
      "execution_count": 16,
      "outputs": [
        {
          "output_type": "stream",
          "text": [
            "[['1' '85' '66' ... '0.351' '31' '0']\n",
            " ['1' '89' '66' ... '0.167' '21' '0']\n",
            " ['5' '116' '74' ... '0.201' '30' '0']\n",
            " ...\n",
            " ['10' '101' '76' ... '0.171' '63' '0']\n",
            " ['2' '122' '70' ... '0.34' '27' '0']\n",
            " ['5' '121' '72' ... '0.245' '30' '0']]\n",
            "[[0.0 5e-324 1e-323 ... 3e-323 3.5e-323 4e-323]\n",
            " ['6' '148' '72' ... '0.627' '50' '1']\n",
            " ['8' '183' '64' ... '0.672' '32' '1']\n",
            " ...\n",
            " ['6' '190' '92' ... '0.278' '66' '1']\n",
            " ['9' '170' '74' ... '0.403' '43' '1']\n",
            " ['1' '126' '60' ... '0.349' '47' '1']]\n"
          ],
          "name": "stdout"
        }
      ]
    }
  ]
}